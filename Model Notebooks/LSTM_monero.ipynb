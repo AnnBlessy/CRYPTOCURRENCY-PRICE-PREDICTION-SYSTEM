{
  "cells": [
    {
      "cell_type": "code",
      "execution_count": 2,
      "metadata": {
        "id": "rUy_eu76hjMH"
      },
      "outputs": [],
      "source": [
        "from sklearn.metrics import mean_absolute_error, mean_squared_error, r2_score, explained_variance_score\n",
        "from sklearn.preprocessing import MinMaxScaler\n",
        "from keras.layers import Dense , LSTM , Dropout , Bidirectional\n",
        "from keras.models import Sequential\n",
        "from datetime import datetime\n",
        "from numpy import sqrt\n",
        "import matplotlib.pyplot as plt\n",
        "import warnings\n",
        "import pandas as pd\n",
        "import numpy as np\n",
        "import joblib\n",
        "warnings.filterwarnings('ignore')\n",
        "%matplotlib inline"
      ]
    },
    {
      "cell_type": "code",
      "execution_count": 3,
      "metadata": {
        "id": "1op95-kEhy8X"
      },
      "outputs": [
        {
          "data": {
            "text/html": [
              "<div>\n",
              "<style scoped>\n",
              "    .dataframe tbody tr th:only-of-type {\n",
              "        vertical-align: middle;\n",
              "    }\n",
              "\n",
              "    .dataframe tbody tr th {\n",
              "        vertical-align: top;\n",
              "    }\n",
              "\n",
              "    .dataframe thead th {\n",
              "        text-align: right;\n",
              "    }\n",
              "</style>\n",
              "<table border=\"1\" class=\"dataframe\">\n",
              "  <thead>\n",
              "    <tr style=\"text-align: right;\">\n",
              "      <th></th>\n",
              "      <th>SNo</th>\n",
              "      <th>Name</th>\n",
              "      <th>Symbol</th>\n",
              "      <th>Date</th>\n",
              "      <th>High</th>\n",
              "      <th>Low</th>\n",
              "      <th>Open</th>\n",
              "      <th>Close</th>\n",
              "      <th>Volume</th>\n",
              "      <th>Marketcap</th>\n",
              "    </tr>\n",
              "  </thead>\n",
              "  <tbody>\n",
              "    <tr>\n",
              "      <th>0</th>\n",
              "      <td>1</td>\n",
              "      <td>Monero</td>\n",
              "      <td>XMR</td>\n",
              "      <td>2014-05-22 23:59:59</td>\n",
              "      <td>2.18888</td>\n",
              "      <td>1.35909</td>\n",
              "      <td>1.58940</td>\n",
              "      <td>2.09558</td>\n",
              "      <td>132918.0</td>\n",
              "      <td>1.855608e+06</td>\n",
              "    </tr>\n",
              "    <tr>\n",
              "      <th>1</th>\n",
              "      <td>2</td>\n",
              "      <td>Monero</td>\n",
              "      <td>XMR</td>\n",
              "      <td>2014-05-23 23:59:59</td>\n",
              "      <td>3.43437</td>\n",
              "      <td>2.05104</td>\n",
              "      <td>2.05104</td>\n",
              "      <td>2.96302</td>\n",
              "      <td>266852.0</td>\n",
              "      <td>2.692180e+06</td>\n",
              "    </tr>\n",
              "    <tr>\n",
              "      <th>2</th>\n",
              "      <td>3</td>\n",
              "      <td>Monero</td>\n",
              "      <td>XMR</td>\n",
              "      <td>2014-05-24 23:59:59</td>\n",
              "      <td>4.01424</td>\n",
              "      <td>2.61778</td>\n",
              "      <td>2.92039</td>\n",
              "      <td>3.70245</td>\n",
              "      <td>248028.0</td>\n",
              "      <td>3.456658e+06</td>\n",
              "    </tr>\n",
              "    <tr>\n",
              "      <th>3</th>\n",
              "      <td>4</td>\n",
              "      <td>Monero</td>\n",
              "      <td>XMR</td>\n",
              "      <td>2014-05-25 23:59:59</td>\n",
              "      <td>4.04303</td>\n",
              "      <td>2.80330</td>\n",
              "      <td>4.04303</td>\n",
              "      <td>3.13856</td>\n",
              "      <td>283545.0</td>\n",
              "      <td>2.993339e+06</td>\n",
              "    </tr>\n",
              "    <tr>\n",
              "      <th>4</th>\n",
              "      <td>5</td>\n",
              "      <td>Monero</td>\n",
              "      <td>XMR</td>\n",
              "      <td>2014-05-26 23:59:59</td>\n",
              "      <td>3.76235</td>\n",
              "      <td>2.31202</td>\n",
              "      <td>3.21897</td>\n",
              "      <td>3.02186</td>\n",
              "      <td>220148.0</td>\n",
              "      <td>2.946133e+06</td>\n",
              "    </tr>\n",
              "  </tbody>\n",
              "</table>\n",
              "</div>"
            ],
            "text/plain": [
              "   SNo    Name Symbol                 Date     High      Low     Open  \\\n",
              "0    1  Monero    XMR  2014-05-22 23:59:59  2.18888  1.35909  1.58940   \n",
              "1    2  Monero    XMR  2014-05-23 23:59:59  3.43437  2.05104  2.05104   \n",
              "2    3  Monero    XMR  2014-05-24 23:59:59  4.01424  2.61778  2.92039   \n",
              "3    4  Monero    XMR  2014-05-25 23:59:59  4.04303  2.80330  4.04303   \n",
              "4    5  Monero    XMR  2014-05-26 23:59:59  3.76235  2.31202  3.21897   \n",
              "\n",
              "     Close    Volume     Marketcap  \n",
              "0  2.09558  132918.0  1.855608e+06  \n",
              "1  2.96302  266852.0  2.692180e+06  \n",
              "2  3.70245  248028.0  3.456658e+06  \n",
              "3  3.13856  283545.0  2.993339e+06  \n",
              "4  3.02186  220148.0  2.946133e+06  "
            ]
          },
          "execution_count": 3,
          "metadata": {},
          "output_type": "execute_result"
        }
      ],
      "source": [
        "df= pd.read_csv(\"C:/Users/annbl/Downloads/Bitcoin Price Predictions/coin_Monero.csv\")\n",
        "df.head()"
      ]
    },
    {
      "cell_type": "code",
      "execution_count": 4,
      "metadata": {
        "colab": {
          "base_uri": "https://localhost:8080/"
        },
        "id": "_kAO1Ge4hzEt",
        "outputId": "59d1f462-58da-40d2-f839-e1e908acf164"
      },
      "outputs": [
        {
          "data": {
            "text/plain": [
              "(2602, 10)"
            ]
          },
          "execution_count": 4,
          "metadata": {},
          "output_type": "execute_result"
        }
      ],
      "source": [
        "df.shape"
      ]
    },
    {
      "cell_type": "code",
      "execution_count": 5,
      "metadata": {
        "colab": {
          "base_uri": "https://localhost:8080/",
          "height": 300
        },
        "id": "bj2DVUFOhzHT",
        "outputId": "423054ac-e953-4d5d-db43-68ba0180a335"
      },
      "outputs": [
        {
          "data": {
            "text/html": [
              "<div>\n",
              "<style scoped>\n",
              "    .dataframe tbody tr th:only-of-type {\n",
              "        vertical-align: middle;\n",
              "    }\n",
              "\n",
              "    .dataframe tbody tr th {\n",
              "        vertical-align: top;\n",
              "    }\n",
              "\n",
              "    .dataframe thead th {\n",
              "        text-align: right;\n",
              "    }\n",
              "</style>\n",
              "<table border=\"1\" class=\"dataframe\">\n",
              "  <thead>\n",
              "    <tr style=\"text-align: right;\">\n",
              "      <th></th>\n",
              "      <th>SNo</th>\n",
              "      <th>High</th>\n",
              "      <th>Low</th>\n",
              "      <th>Open</th>\n",
              "      <th>Close</th>\n",
              "      <th>Volume</th>\n",
              "      <th>Marketcap</th>\n",
              "    </tr>\n",
              "  </thead>\n",
              "  <tbody>\n",
              "    <tr>\n",
              "      <th>count</th>\n",
              "      <td>2602.000000</td>\n",
              "      <td>2602.000000</td>\n",
              "      <td>2602.000000</td>\n",
              "      <td>2602.000000</td>\n",
              "      <td>2602.000000</td>\n",
              "      <td>2.602000e+03</td>\n",
              "      <td>2.602000e+03</td>\n",
              "    </tr>\n",
              "    <tr>\n",
              "      <th>mean</th>\n",
              "      <td>1301.500000</td>\n",
              "      <td>77.357637</td>\n",
              "      <td>70.481496</td>\n",
              "      <td>74.069198</td>\n",
              "      <td>74.134773</td>\n",
              "      <td>1.637467e+08</td>\n",
              "      <td>1.236534e+09</td>\n",
              "    </tr>\n",
              "    <tr>\n",
              "      <th>std</th>\n",
              "      <td>751.277024</td>\n",
              "      <td>96.070702</td>\n",
              "      <td>85.520895</td>\n",
              "      <td>91.188680</td>\n",
              "      <td>91.180556</td>\n",
              "      <td>9.193947e+08</td>\n",
              "      <td>1.534699e+09</td>\n",
              "    </tr>\n",
              "    <tr>\n",
              "      <th>min</th>\n",
              "      <td>1.000000</td>\n",
              "      <td>0.251757</td>\n",
              "      <td>0.212967</td>\n",
              "      <td>0.220121</td>\n",
              "      <td>0.223522</td>\n",
              "      <td>7.899570e+03</td>\n",
              "      <td>1.279606e+06</td>\n",
              "    </tr>\n",
              "    <tr>\n",
              "      <th>25%</th>\n",
              "      <td>651.250000</td>\n",
              "      <td>1.706342</td>\n",
              "      <td>1.472560</td>\n",
              "      <td>1.575765</td>\n",
              "      <td>1.588685</td>\n",
              "      <td>1.735218e+05</td>\n",
              "      <td>9.731418e+06</td>\n",
              "    </tr>\n",
              "    <tr>\n",
              "      <th>50%</th>\n",
              "      <td>1301.500000</td>\n",
              "      <td>52.737242</td>\n",
              "      <td>49.691152</td>\n",
              "      <td>51.254060</td>\n",
              "      <td>51.337759</td>\n",
              "      <td>2.466770e+07</td>\n",
              "      <td>8.558357e+08</td>\n",
              "    </tr>\n",
              "    <tr>\n",
              "      <th>75%</th>\n",
              "      <td>1951.750000</td>\n",
              "      <td>105.886750</td>\n",
              "      <td>99.589450</td>\n",
              "      <td>103.467749</td>\n",
              "      <td>102.915250</td>\n",
              "      <td>1.034612e+08</td>\n",
              "      <td>1.708818e+09</td>\n",
              "    </tr>\n",
              "    <tr>\n",
              "      <th>max</th>\n",
              "      <td>2602.000000</td>\n",
              "      <td>517.620245</td>\n",
              "      <td>453.390991</td>\n",
              "      <td>483.709977</td>\n",
              "      <td>483.583612</td>\n",
              "      <td>2.895912e+10</td>\n",
              "      <td>8.658968e+09</td>\n",
              "    </tr>\n",
              "  </tbody>\n",
              "</table>\n",
              "</div>"
            ],
            "text/plain": [
              "               SNo         High          Low         Open        Close  \\\n",
              "count  2602.000000  2602.000000  2602.000000  2602.000000  2602.000000   \n",
              "mean   1301.500000    77.357637    70.481496    74.069198    74.134773   \n",
              "std     751.277024    96.070702    85.520895    91.188680    91.180556   \n",
              "min       1.000000     0.251757     0.212967     0.220121     0.223522   \n",
              "25%     651.250000     1.706342     1.472560     1.575765     1.588685   \n",
              "50%    1301.500000    52.737242    49.691152    51.254060    51.337759   \n",
              "75%    1951.750000   105.886750    99.589450   103.467749   102.915250   \n",
              "max    2602.000000   517.620245   453.390991   483.709977   483.583612   \n",
              "\n",
              "             Volume     Marketcap  \n",
              "count  2.602000e+03  2.602000e+03  \n",
              "mean   1.637467e+08  1.236534e+09  \n",
              "std    9.193947e+08  1.534699e+09  \n",
              "min    7.899570e+03  1.279606e+06  \n",
              "25%    1.735218e+05  9.731418e+06  \n",
              "50%    2.466770e+07  8.558357e+08  \n",
              "75%    1.034612e+08  1.708818e+09  \n",
              "max    2.895912e+10  8.658968e+09  "
            ]
          },
          "execution_count": 5,
          "metadata": {},
          "output_type": "execute_result"
        }
      ],
      "source": [
        "df.describe()"
      ]
    },
    {
      "cell_type": "code",
      "execution_count": 6,
      "metadata": {
        "colab": {
          "base_uri": "https://localhost:8080/"
        },
        "id": "uiemvBPShzJt",
        "outputId": "2767f97a-7b85-4626-d5de-5ff9c4bf6c1f"
      },
      "outputs": [
        {
          "data": {
            "text/plain": [
              "SNo          0\n",
              "Name         0\n",
              "Symbol       0\n",
              "Date         0\n",
              "High         0\n",
              "Low          0\n",
              "Open         0\n",
              "Close        0\n",
              "Volume       0\n",
              "Marketcap    0\n",
              "dtype: int64"
            ]
          },
          "execution_count": 6,
          "metadata": {},
          "output_type": "execute_result"
        }
      ],
      "source": [
        "df.isnull().sum()"
      ]
    },
    {
      "cell_type": "code",
      "execution_count": 7,
      "metadata": {
        "colab": {
          "base_uri": "https://localhost:8080/"
        },
        "id": "17HZW8nEhzMC",
        "outputId": "e444c02d-7ce3-43a1-ab8b-e153d4a48527"
      },
      "outputs": [
        {
          "name": "stdout",
          "output_type": "stream",
          "text": [
            "<class 'pandas.core.frame.DataFrame'>\n",
            "RangeIndex: 2602 entries, 0 to 2601\n",
            "Data columns (total 10 columns):\n",
            " #   Column     Non-Null Count  Dtype  \n",
            "---  ------     --------------  -----  \n",
            " 0   SNo        2602 non-null   int64  \n",
            " 1   Name       2602 non-null   object \n",
            " 2   Symbol     2602 non-null   object \n",
            " 3   Date       2602 non-null   object \n",
            " 4   High       2602 non-null   float64\n",
            " 5   Low        2602 non-null   float64\n",
            " 6   Open       2602 non-null   float64\n",
            " 7   Close      2602 non-null   float64\n",
            " 8   Volume     2602 non-null   float64\n",
            " 9   Marketcap  2602 non-null   float64\n",
            "dtypes: float64(6), int64(1), object(3)\n",
            "memory usage: 203.4+ KB\n"
          ]
        }
      ],
      "source": [
        "df.info()"
      ]
    },
    {
      "cell_type": "code",
      "execution_count": 8,
      "metadata": {
        "colab": {
          "base_uri": "https://localhost:8080/"
        },
        "id": "hhZmaiinhzPf",
        "outputId": "b314c1a8-57c2-4872-92c2-004f57520977"
      },
      "outputs": [
        {
          "data": {
            "text/plain": [
              "(2602, 10)"
            ]
          },
          "execution_count": 8,
          "metadata": {},
          "output_type": "execute_result"
        }
      ],
      "source": [
        "tam1 = df.shape[0]\n",
        "df.shape"
      ]
    },
    {
      "cell_type": "code",
      "execution_count": 9,
      "metadata": {
        "colab": {
          "base_uri": "https://localhost:8080/"
        },
        "id": "PQk_oMCeiiYY",
        "outputId": "dd515241-fef2-4baf-82fa-e434fec71273"
      },
      "outputs": [
        {
          "data": {
            "text/plain": [
              "74.13477"
            ]
          },
          "execution_count": 9,
          "metadata": {},
          "output_type": "execute_result"
        }
      ],
      "source": [
        "values = df['Close'].values.reshape(-1,1)\n",
        "values = values.astype('float32')\n",
        "scaler = MinMaxScaler(feature_range=(0, 1))\n",
        "scaled = scaler.fit_transform(values)\n",
        "np.mean(values)"
      ]
    },
    {
      "cell_type": "code",
      "execution_count": 10,
      "metadata": {
        "colab": {
          "base_uri": "https://localhost:8080/"
        },
        "id": "_yQDp7H_lC35",
        "outputId": "b4b6c553-f2d0-49a6-f1ec-e4000ea86171"
      },
      "outputs": [
        {
          "name": "stdout",
          "output_type": "stream",
          "text": [
            "1821 781\n"
          ]
        }
      ],
      "source": [
        "train_size = int(len(scaled) * 0.7)\n",
        "test_size = len(scaled) - train_size\n",
        "train, test = scaled[0:train_size,:], scaled[train_size:len(scaled),:]\n",
        "print(len(train), len(test))"
      ]
    },
    {
      "cell_type": "code",
      "execution_count": 11,
      "metadata": {
        "id": "CeJcwO5AlC7I"
      },
      "outputs": [],
      "source": [
        "def create_dataset(dataset, look_back=1):\n",
        "    dataX, dataY = [], []\n",
        "    for i in range(len(dataset) - look_back):\n",
        "        a = dataset[i:(i + look_back), 0]\n",
        "        dataX.append(a)\n",
        "        dataY.append(dataset[i + look_back, 0])\n",
        "    print(len(dataY))\n",
        "    return np.array(dataX), np.array(dataY)"
      ]
    },
    {
      "cell_type": "code",
      "execution_count": 12,
      "metadata": {
        "colab": {
          "base_uri": "https://localhost:8080/"
        },
        "id": "rcKGujv6lC9t",
        "outputId": "5415e92b-5e6f-44bd-d1f5-6ac0f437f63a"
      },
      "outputs": [
        {
          "name": "stdout",
          "output_type": "stream",
          "text": [
            "1820\n",
            "780\n"
          ]
        }
      ],
      "source": [
        "look_back = 1\n",
        "trainX, trainY = create_dataset(train, look_back)\n",
        "testX, testY = create_dataset(test, look_back)"
      ]
    },
    {
      "cell_type": "code",
      "execution_count": 13,
      "metadata": {
        "id": "MHhjLxSYlDAK"
      },
      "outputs": [],
      "source": [
        "trainX = np.reshape(trainX, (trainX.shape[0], 1, trainX.shape[1]))\n",
        "testX = np.reshape(testX, (testX.shape[0], 1, testX.shape[1]))"
      ]
    },
    {
      "cell_type": "code",
      "execution_count": 14,
      "metadata": {
        "colab": {
          "base_uri": "https://localhost:8080/"
        },
        "id": "piztenWwlDDk",
        "outputId": "c8a54b6e-ed64-4422-f0f5-bfee912ae134"
      },
      "outputs": [
        {
          "data": {
            "text/html": [
              "<pre style=\"white-space:pre;overflow-x:auto;line-height:normal;font-family:Menlo,'DejaVu Sans Mono',consolas,'Courier New',monospace\"><span style=\"font-weight: bold\">Model: \"sequential\"</span>\n",
              "</pre>\n"
            ],
            "text/plain": [
              "\u001b[1mModel: \"sequential\"\u001b[0m\n"
            ]
          },
          "metadata": {},
          "output_type": "display_data"
        },
        {
          "data": {
            "text/html": [
              "<pre style=\"white-space:pre;overflow-x:auto;line-height:normal;font-family:Menlo,'DejaVu Sans Mono',consolas,'Courier New',monospace\">┏━━━━━━━━━━━━━━━━━━━━━━━━━━━━━━━━━┳━━━━━━━━━━━━━━━━━━━━━━━━┳━━━━━━━━━━━━━━━┓\n",
              "┃<span style=\"font-weight: bold\"> Layer (type)                    </span>┃<span style=\"font-weight: bold\"> Output Shape           </span>┃<span style=\"font-weight: bold\">       Param # </span>┃\n",
              "┡━━━━━━━━━━━━━━━━━━━━━━━━━━━━━━━━━╇━━━━━━━━━━━━━━━━━━━━━━━━╇━━━━━━━━━━━━━━━┩\n",
              "│ bidirectional (<span style=\"color: #0087ff; text-decoration-color: #0087ff\">Bidirectional</span>)   │ (<span style=\"color: #00af00; text-decoration-color: #00af00\">1820</span>, <span style=\"color: #00af00; text-decoration-color: #00af00\">64</span>)             │         <span style=\"color: #00af00; text-decoration-color: #00af00\">8,704</span> │\n",
              "├─────────────────────────────────┼────────────────────────┼───────────────┤\n",
              "│ dense (<span style=\"color: #0087ff; text-decoration-color: #0087ff\">Dense</span>)                   │ (<span style=\"color: #00af00; text-decoration-color: #00af00\">1820</span>, <span style=\"color: #00af00; text-decoration-color: #00af00\">128</span>)            │         <span style=\"color: #00af00; text-decoration-color: #00af00\">8,320</span> │\n",
              "├─────────────────────────────────┼────────────────────────┼───────────────┤\n",
              "│ dropout (<span style=\"color: #0087ff; text-decoration-color: #0087ff\">Dropout</span>)               │ (<span style=\"color: #00af00; text-decoration-color: #00af00\">1820</span>, <span style=\"color: #00af00; text-decoration-color: #00af00\">128</span>)            │             <span style=\"color: #00af00; text-decoration-color: #00af00\">0</span> │\n",
              "├─────────────────────────────────┼────────────────────────┼───────────────┤\n",
              "│ dense_1 (<span style=\"color: #0087ff; text-decoration-color: #0087ff\">Dense</span>)                 │ (<span style=\"color: #00af00; text-decoration-color: #00af00\">1820</span>, <span style=\"color: #00af00; text-decoration-color: #00af00\">64</span>)             │         <span style=\"color: #00af00; text-decoration-color: #00af00\">8,256</span> │\n",
              "├─────────────────────────────────┼────────────────────────┼───────────────┤\n",
              "│ dropout_1 (<span style=\"color: #0087ff; text-decoration-color: #0087ff\">Dropout</span>)             │ (<span style=\"color: #00af00; text-decoration-color: #00af00\">1820</span>, <span style=\"color: #00af00; text-decoration-color: #00af00\">64</span>)             │             <span style=\"color: #00af00; text-decoration-color: #00af00\">0</span> │\n",
              "├─────────────────────────────────┼────────────────────────┼───────────────┤\n",
              "│ dense_2 (<span style=\"color: #0087ff; text-decoration-color: #0087ff\">Dense</span>)                 │ (<span style=\"color: #00af00; text-decoration-color: #00af00\">1820</span>, <span style=\"color: #00af00; text-decoration-color: #00af00\">1</span>)              │            <span style=\"color: #00af00; text-decoration-color: #00af00\">65</span> │\n",
              "└─────────────────────────────────┴────────────────────────┴───────────────┘\n",
              "</pre>\n"
            ],
            "text/plain": [
              "┏━━━━━━━━━━━━━━━━━━━━━━━━━━━━━━━━━┳━━━━━━━━━━━━━━━━━━━━━━━━┳━━━━━━━━━━━━━━━┓\n",
              "┃\u001b[1m \u001b[0m\u001b[1mLayer (type)                   \u001b[0m\u001b[1m \u001b[0m┃\u001b[1m \u001b[0m\u001b[1mOutput Shape          \u001b[0m\u001b[1m \u001b[0m┃\u001b[1m \u001b[0m\u001b[1m      Param #\u001b[0m\u001b[1m \u001b[0m┃\n",
              "┡━━━━━━━━━━━━━━━━━━━━━━━━━━━━━━━━━╇━━━━━━━━━━━━━━━━━━━━━━━━╇━━━━━━━━━━━━━━━┩\n",
              "│ bidirectional (\u001b[38;5;33mBidirectional\u001b[0m)   │ (\u001b[38;5;34m1820\u001b[0m, \u001b[38;5;34m64\u001b[0m)             │         \u001b[38;5;34m8,704\u001b[0m │\n",
              "├─────────────────────────────────┼────────────────────────┼───────────────┤\n",
              "│ dense (\u001b[38;5;33mDense\u001b[0m)                   │ (\u001b[38;5;34m1820\u001b[0m, \u001b[38;5;34m128\u001b[0m)            │         \u001b[38;5;34m8,320\u001b[0m │\n",
              "├─────────────────────────────────┼────────────────────────┼───────────────┤\n",
              "│ dropout (\u001b[38;5;33mDropout\u001b[0m)               │ (\u001b[38;5;34m1820\u001b[0m, \u001b[38;5;34m128\u001b[0m)            │             \u001b[38;5;34m0\u001b[0m │\n",
              "├─────────────────────────────────┼────────────────────────┼───────────────┤\n",
              "│ dense_1 (\u001b[38;5;33mDense\u001b[0m)                 │ (\u001b[38;5;34m1820\u001b[0m, \u001b[38;5;34m64\u001b[0m)             │         \u001b[38;5;34m8,256\u001b[0m │\n",
              "├─────────────────────────────────┼────────────────────────┼───────────────┤\n",
              "│ dropout_1 (\u001b[38;5;33mDropout\u001b[0m)             │ (\u001b[38;5;34m1820\u001b[0m, \u001b[38;5;34m64\u001b[0m)             │             \u001b[38;5;34m0\u001b[0m │\n",
              "├─────────────────────────────────┼────────────────────────┼───────────────┤\n",
              "│ dense_2 (\u001b[38;5;33mDense\u001b[0m)                 │ (\u001b[38;5;34m1820\u001b[0m, \u001b[38;5;34m1\u001b[0m)              │            \u001b[38;5;34m65\u001b[0m │\n",
              "└─────────────────────────────────┴────────────────────────┴───────────────┘\n"
            ]
          },
          "metadata": {},
          "output_type": "display_data"
        },
        {
          "data": {
            "text/html": [
              "<pre style=\"white-space:pre;overflow-x:auto;line-height:normal;font-family:Menlo,'DejaVu Sans Mono',consolas,'Courier New',monospace\"><span style=\"font-weight: bold\"> Total params: </span><span style=\"color: #00af00; text-decoration-color: #00af00\">25,345</span> (99.00 KB)\n",
              "</pre>\n"
            ],
            "text/plain": [
              "\u001b[1m Total params: \u001b[0m\u001b[38;5;34m25,345\u001b[0m (99.00 KB)\n"
            ]
          },
          "metadata": {},
          "output_type": "display_data"
        },
        {
          "data": {
            "text/html": [
              "<pre style=\"white-space:pre;overflow-x:auto;line-height:normal;font-family:Menlo,'DejaVu Sans Mono',consolas,'Courier New',monospace\"><span style=\"font-weight: bold\"> Trainable params: </span><span style=\"color: #00af00; text-decoration-color: #00af00\">25,345</span> (99.00 KB)\n",
              "</pre>\n"
            ],
            "text/plain": [
              "\u001b[1m Trainable params: \u001b[0m\u001b[38;5;34m25,345\u001b[0m (99.00 KB)\n"
            ]
          },
          "metadata": {},
          "output_type": "display_data"
        },
        {
          "data": {
            "text/html": [
              "<pre style=\"white-space:pre;overflow-x:auto;line-height:normal;font-family:Menlo,'DejaVu Sans Mono',consolas,'Courier New',monospace\"><span style=\"font-weight: bold\"> Non-trainable params: </span><span style=\"color: #00af00; text-decoration-color: #00af00\">0</span> (0.00 B)\n",
              "</pre>\n"
            ],
            "text/plain": [
              "\u001b[1m Non-trainable params: \u001b[0m\u001b[38;5;34m0\u001b[0m (0.00 B)\n"
            ]
          },
          "metadata": {},
          "output_type": "display_data"
        }
      ],
      "source": [
        "model = Sequential()\n",
        "model.add(Bidirectional(LSTM(32)))\n",
        "model.add(Dense(units=128, activation='relu'))\n",
        "model.add(Dropout(0.1))  # Changed dropout rate to 0.9\n",
        "model.add(Dense(units=64, activation='relu'))\n",
        "model.add(Dropout(0.1))  # Changed dropout rate to 0.9\n",
        "model.add(Dense(units=1))\n",
        "model.build(input_shape=(trainX.shape[0], trainX.shape[1], trainX.shape[2]))\n",
        "\n",
        "model.summary()\n"
      ]
    },
    {
      "cell_type": "code",
      "execution_count": 15,
      "metadata": {
        "id": "Z1Fh5kz7lZ35"
      },
      "outputs": [],
      "source": [
        "def train_model(model, loss, optimizer, trainX, trainY):\n",
        "\n",
        "  model.compile(loss=loss, optimizer=optimizer)\n",
        "  #train model\n",
        "  history = model.fit(trainX, trainY, epochs=30, batch_size= 200,  validation_data = (testX, testY))\n",
        "  # plot cost\n",
        "  plt.plot(history.history['loss'], label='train')\n",
        "  plt.plot(history.history['val_loss'], label='test')\n",
        "  plt.legend()\n",
        "  plt.show()"
      ]
    },
    {
      "cell_type": "code",
      "execution_count": 16,
      "metadata": {
        "id": "VNTWVlnwlZ6_"
      },
      "outputs": [],
      "source": [
        "def evaluate_model(model, testX, testY):\n",
        "\n",
        "  yhat = model.predict(testX)\n",
        "  plt.title('Curve of actual value and predicted value on the scale used in training')\n",
        "  plt.plot(yhat, label='predict')\n",
        "  plt.plot(testY, label='true')\n",
        "  plt.legend()\n",
        "  plt.show()\n",
        "\n",
        "  yhat_inverse = scaler.inverse_transform(yhat.reshape(-1, 1))\n",
        "  testY_inverse = scaler.inverse_transform(testY.reshape(-1, 1))\n",
        "\n",
        "  mse = mean_squared_error(testY_inverse, yhat_inverse)\n",
        "  r2 = r2_score(testY_inverse, yhat_inverse)\n",
        "  mae = mean_absolute_error(testY_inverse, yhat_inverse)\n",
        "  evs = explained_variance_score(testY_inverse, yhat_inverse)\n",
        "  rmse= sqrt(mse)\n",
        "\n",
        "  print(\"Model: LSTM\")\n",
        "  print(\"Mean Squared Error:\", mse)\n",
        "  print(\"R-squared:\", r2)\n",
        "  print(\"Mean Absolute Error:\", mae)\n",
        "  print(\"Explained Variance Score:\", evs)\n",
        "  print(\"RMSE:\", rmse)\n",
        "\n",
        "  plt.title('Actual value curve and predicted value in US dollars')\n",
        "  plt.plot(yhat_inverse, label='predict')\n",
        "  plt.plot(testY_inverse, label='actual', alpha=0.5)\n",
        "  plt.legend()\n",
        "  plt.show()"
      ]
    },
    {
      "cell_type": "code",
      "execution_count": 17,
      "metadata": {
        "colab": {
          "base_uri": "https://localhost:8080/",
          "height": 1000
        },
        "id": "eW1BqTQZlZ92",
        "outputId": "e310429f-e1f2-4705-e91b-d1e36a0e380d"
      },
      "outputs": [
        {
          "name": "stdout",
          "output_type": "stream",
          "text": [
            "Epoch 1/30\n",
            "\u001b[1m10/10\u001b[0m \u001b[32m━━━━━━━━━━━━━━━━━━━━\u001b[0m\u001b[37m\u001b[0m \u001b[1m3s\u001b[0m 33ms/step - loss: 0.0340 - val_loss: 0.0226\n",
            "Epoch 2/30\n",
            "\u001b[1m10/10\u001b[0m \u001b[32m━━━━━━━━━━━━━━━━━━━━\u001b[0m\u001b[37m\u001b[0m \u001b[1m0s\u001b[0m 6ms/step - loss: 0.0154 - val_loss: 0.0095\n",
            "Epoch 3/30\n",
            "\u001b[1m10/10\u001b[0m \u001b[32m━━━━━━━━━━━━━━━━━━━━\u001b[0m\u001b[37m\u001b[0m \u001b[1m0s\u001b[0m 4ms/step - loss: 0.0043 - val_loss: 9.6597e-04\n",
            "Epoch 4/30\n",
            "\u001b[1m10/10\u001b[0m \u001b[32m━━━━━━━━━━━━━━━━━━━━\u001b[0m\u001b[37m\u001b[0m \u001b[1m0s\u001b[0m 5ms/step - loss: 0.0012 - val_loss: 0.0013\n",
            "Epoch 5/30\n",
            "\u001b[1m10/10\u001b[0m \u001b[32m━━━━━━━━━━━━━━━━━━━━\u001b[0m\u001b[37m\u001b[0m \u001b[1m0s\u001b[0m 5ms/step - loss: 0.0011 - val_loss: 8.2821e-04\n",
            "Epoch 6/30\n",
            "\u001b[1m10/10\u001b[0m \u001b[32m━━━━━━━━━━━━━━━━━━━━\u001b[0m\u001b[37m\u001b[0m \u001b[1m0s\u001b[0m 6ms/step - loss: 8.3816e-04 - val_loss: 6.5482e-04\n",
            "Epoch 7/30\n",
            "\u001b[1m10/10\u001b[0m \u001b[32m━━━━━━━━━━━━━━━━━━━━\u001b[0m\u001b[37m\u001b[0m \u001b[1m0s\u001b[0m 5ms/step - loss: 9.0717e-04 - val_loss: 5.5224e-04\n",
            "Epoch 8/30\n",
            "\u001b[1m10/10\u001b[0m \u001b[32m━━━━━━━━━━━━━━━━━━━━\u001b[0m\u001b[37m\u001b[0m \u001b[1m0s\u001b[0m 5ms/step - loss: 7.5680e-04 - val_loss: 5.2976e-04\n",
            "Epoch 9/30\n",
            "\u001b[1m10/10\u001b[0m \u001b[32m━━━━━━━━━━━━━━━━━━━━\u001b[0m\u001b[37m\u001b[0m \u001b[1m0s\u001b[0m 7ms/step - loss: 7.6096e-04 - val_loss: 5.2450e-04\n",
            "Epoch 10/30\n",
            "\u001b[1m10/10\u001b[0m \u001b[32m━━━━━━━━━━━━━━━━━━━━\u001b[0m\u001b[37m\u001b[0m \u001b[1m0s\u001b[0m 4ms/step - loss: 6.2493e-04 - val_loss: 5.1935e-04\n",
            "Epoch 11/30\n",
            "\u001b[1m10/10\u001b[0m \u001b[32m━━━━━━━━━━━━━━━━━━━━\u001b[0m\u001b[37m\u001b[0m \u001b[1m0s\u001b[0m 5ms/step - loss: 6.8037e-04 - val_loss: 5.1023e-04\n",
            "Epoch 12/30\n",
            "\u001b[1m10/10\u001b[0m \u001b[32m━━━━━━━━━━━━━━━━━━━━\u001b[0m\u001b[37m\u001b[0m \u001b[1m0s\u001b[0m 6ms/step - loss: 6.7920e-04 - val_loss: 6.3895e-04\n",
            "Epoch 13/30\n",
            "\u001b[1m10/10\u001b[0m \u001b[32m━━━━━━━━━━━━━━━━━━━━\u001b[0m\u001b[37m\u001b[0m \u001b[1m0s\u001b[0m 6ms/step - loss: 6.2993e-04 - val_loss: 5.0032e-04\n",
            "Epoch 14/30\n",
            "\u001b[1m10/10\u001b[0m \u001b[32m━━━━━━━━━━━━━━━━━━━━\u001b[0m\u001b[37m\u001b[0m \u001b[1m0s\u001b[0m 6ms/step - loss: 6.4102e-04 - val_loss: 4.9770e-04\n",
            "Epoch 15/30\n",
            "\u001b[1m10/10\u001b[0m \u001b[32m━━━━━━━━━━━━━━━━━━━━\u001b[0m\u001b[37m\u001b[0m \u001b[1m0s\u001b[0m 6ms/step - loss: 7.3382e-04 - val_loss: 5.2777e-04\n",
            "Epoch 16/30\n",
            "\u001b[1m10/10\u001b[0m \u001b[32m━━━━━━━━━━━━━━━━━━━━\u001b[0m\u001b[37m\u001b[0m \u001b[1m0s\u001b[0m 5ms/step - loss: 7.6347e-04 - val_loss: 4.9906e-04\n",
            "Epoch 17/30\n",
            "\u001b[1m10/10\u001b[0m \u001b[32m━━━━━━━━━━━━━━━━━━━━\u001b[0m\u001b[37m\u001b[0m \u001b[1m0s\u001b[0m 6ms/step - loss: 6.4620e-04 - val_loss: 4.8160e-04\n",
            "Epoch 18/30\n",
            "\u001b[1m10/10\u001b[0m \u001b[32m━━━━━━━━━━━━━━━━━━━━\u001b[0m\u001b[37m\u001b[0m \u001b[1m0s\u001b[0m 5ms/step - loss: 5.1518e-04 - val_loss: 4.9447e-04\n",
            "Epoch 19/30\n",
            "\u001b[1m10/10\u001b[0m \u001b[32m━━━━━━━━━━━━━━━━━━━━\u001b[0m\u001b[37m\u001b[0m \u001b[1m0s\u001b[0m 6ms/step - loss: 4.8133e-04 - val_loss: 4.8907e-04\n",
            "Epoch 20/30\n",
            "\u001b[1m10/10\u001b[0m \u001b[32m━━━━━━━━━━━━━━━━━━━━\u001b[0m\u001b[37m\u001b[0m \u001b[1m0s\u001b[0m 6ms/step - loss: 5.4464e-04 - val_loss: 4.9160e-04\n",
            "Epoch 21/30\n",
            "\u001b[1m10/10\u001b[0m \u001b[32m━━━━━━━━━━━━━━━━━━━━\u001b[0m\u001b[37m\u001b[0m \u001b[1m0s\u001b[0m 6ms/step - loss: 5.4757e-04 - val_loss: 4.7760e-04\n",
            "Epoch 22/30\n",
            "\u001b[1m10/10\u001b[0m \u001b[32m━━━━━━━━━━━━━━━━━━━━\u001b[0m\u001b[37m\u001b[0m \u001b[1m0s\u001b[0m 5ms/step - loss: 4.8180e-04 - val_loss: 4.7948e-04\n",
            "Epoch 23/30\n",
            "\u001b[1m10/10\u001b[0m \u001b[32m━━━━━━━━━━━━━━━━━━━━\u001b[0m\u001b[37m\u001b[0m \u001b[1m0s\u001b[0m 7ms/step - loss: 5.3589e-04 - val_loss: 4.8287e-04\n",
            "Epoch 24/30\n",
            "\u001b[1m10/10\u001b[0m \u001b[32m━━━━━━━━━━━━━━━━━━━━\u001b[0m\u001b[37m\u001b[0m \u001b[1m0s\u001b[0m 5ms/step - loss: 6.6143e-04 - val_loss: 7.8583e-04\n",
            "Epoch 25/30\n",
            "\u001b[1m10/10\u001b[0m \u001b[32m━━━━━━━━━━━━━━━━━━━━\u001b[0m\u001b[37m\u001b[0m \u001b[1m0s\u001b[0m 6ms/step - loss: 6.5235e-04 - val_loss: 5.0989e-04\n",
            "Epoch 26/30\n",
            "\u001b[1m10/10\u001b[0m \u001b[32m━━━━━━━━━━━━━━━━━━━━\u001b[0m\u001b[37m\u001b[0m \u001b[1m0s\u001b[0m 6ms/step - loss: 6.2662e-04 - val_loss: 5.2034e-04\n",
            "Epoch 27/30\n",
            "\u001b[1m10/10\u001b[0m \u001b[32m━━━━━━━━━━━━━━━━━━━━\u001b[0m\u001b[37m\u001b[0m \u001b[1m0s\u001b[0m 6ms/step - loss: 6.0421e-04 - val_loss: 4.7704e-04\n",
            "Epoch 28/30\n",
            "\u001b[1m10/10\u001b[0m \u001b[32m━━━━━━━━━━━━━━━━━━━━\u001b[0m\u001b[37m\u001b[0m \u001b[1m0s\u001b[0m 6ms/step - loss: 5.5825e-04 - val_loss: 4.8301e-04\n",
            "Epoch 29/30\n",
            "\u001b[1m10/10\u001b[0m \u001b[32m━━━━━━━━━━━━━━━━━━━━\u001b[0m\u001b[37m\u001b[0m \u001b[1m0s\u001b[0m 6ms/step - loss: 4.9066e-04 - val_loss: 4.7874e-04\n",
            "Epoch 30/30\n",
            "\u001b[1m10/10\u001b[0m \u001b[32m━━━━━━━━━━━━━━━━━━━━\u001b[0m\u001b[37m\u001b[0m \u001b[1m0s\u001b[0m 6ms/step - loss: 6.1456e-04 - val_loss: 4.9927e-04\n"
          ]
        },
        {
          "data": {
            "image/png": "[encoded data removed]",
            "text/plain": [
              "<Figure size 640x480 with 1 Axes>"
            ]
          },
          "metadata": {},
          "output_type": "display_data"
        }
      ],
      "source": [
        "train_model(model, 'mse', 'adam', trainX, trainY)"
      ]
    },
    {
      "cell_type": "code",
      "execution_count": 18,
      "metadata": {
        "colab": {
          "base_uri": "https://localhost:8080/",
          "height": 1000
        },
        "id": "N8xPf_NplaAh",
        "outputId": "29bc0707-83ed-475f-b0b7-9cd131b04421"
      },
      "outputs": [
        {
          "name": "stdout",
          "output_type": "stream",
          "text": [
            "\u001b[1m25/25\u001b[0m \u001b[32m━━━━━━━━━━━━━━━━━━━━\u001b[0m\u001b[37m\u001b[0m \u001b[1m1s\u001b[0m 11ms/step\n"
          ]
        },
        {
          "data": {
            "image/png": "[encoded data removed]",
            "text/plain": [
              "<Figure size 640x480 with 1 Axes>"
            ]
          },
          "metadata": {},
          "output_type": "display_data"
        },
        {
          "name": "stdout",
          "output_type": "stream",
          "text": [
            "Model: LSTM\n",
            "Mean Squared Error: 116.64867\n",
            "R-squared: 0.9843001133483776\n",
            "Mean Absolute Error: 5.922114\n",
            "Explained Variance Score: 0.9847398400306702\n",
            "RMSE: 10.800402\n"
          ]
        },
        {
          "data": {
            "image/png": "[encoded data removed]",
            "text/plain": [
              "<Figure size 640x480 with 1 Axes>"
            ]
          },
          "metadata": {},
          "output_type": "display_data"
        }
      ],
      "source": [
        "evaluate_model(model, testX, testY)"
      ]
    },
    {
      "cell_type": "code",
      "execution_count": 19,
      "metadata": {
        "colab": {
          "base_uri": "https://localhost:8080/"
        },
        "id": "0JusN-yyKmLD",
        "outputId": "98470ae2-b08b-45d4-ea81-f31f528f2383"
      },
      "outputs": [
        {
          "name": "stderr",
          "output_type": "stream",
          "text": [
            "WARNING:absl:You are saving your model as an HDF5 file via `model.save()` or `keras.saving.save_model(model)`. This file format is considered legacy. We recommend using instead the native Keras format, e.g. `model.save('my_model.keras')` or `keras.saving.save_model(model, 'my_model.keras')`. \n"
          ]
        },
        {
          "data": {
            "text/plain": [
              "['scaler_xmr.pkl']"
            ]
          },
          "execution_count": 19,
          "metadata": {},
          "output_type": "execute_result"
        }
      ],
      "source": [
        "model.save('model_XMR.h5')\n",
        "\n",
        "joblib.dump(scaler, 'scaler_xmr.pkl')"
      ]
    },
    {
      "cell_type": "code",
      "execution_count": 20,
      "metadata": {
        "id": "jssF-hvKlaD8"
      },
      "outputs": [],
      "source": [
        "def create_time_steps(length):\n",
        "  time_steps = []\n",
        "  for i in range(-length, 0, 1):\n",
        "    time_steps.append(i)\n",
        "  return time_steps\n",
        "\n",
        "def baseline(history):\n",
        "  return np.mean(history)\n",
        "\n",
        "def show_plot(plot_data, delta, title):\n",
        "  labels = ['History', 'True Future', 'Model Prediction']\n",
        "  marker = ['.-', 'rx', 'go']\n",
        "  time_steps = create_time_steps(plot_data[0].shape[0])\n",
        "  if delta:\n",
        "    future = delta\n",
        "  else:\n",
        "    future = 0\n",
        "\n",
        "  plt.title(title)\n",
        "  for i, x in enumerate(plot_data):\n",
        "    if i:\n",
        "      plt.plot(future, plot_data[i], marker[i], markersize=10,\n",
        "               label=labels[i])\n",
        "    else:\n",
        "      plt.plot(time_steps, plot_data[i].flatten(), marker[i], label=labels[i])\n",
        "  plt.legend()\n",
        "  plt.xlim([time_steps[0], (future+5)*2])\n",
        "  plt.xlabel('Time-Step')\n",
        "  return plt"
      ]
    },
    {
      "cell_type": "code",
      "execution_count": 21,
      "metadata": {
        "id": "XMGgOicml2Aw"
      },
      "outputs": [],
      "source": [
        "def predict_next_day(model, testX, testY):\n",
        "\n",
        "  yhat_inverse = scaler.inverse_transform(model.predict(testX).reshape(-1, 1))\n",
        "  testY_inverse = scaler.inverse_transform(testY.reshape(-1, 1))\n",
        "\n",
        "  show_plot([testY_inverse[0:200], yhat_inverse[201],baseline(testY_inverse[201])], 1, 'Next day prediction')\n",
        "\n",
        "  print('predicted value of day 201: ', yhat_inverse[201])\n",
        "  print('Actual value of day 201: ', testY_inverse[201])"
      ]
    },
    {
      "cell_type": "code",
      "execution_count": 22,
      "metadata": {
        "colab": {
          "base_uri": "https://localhost:8080/",
          "height": 524
        },
        "id": "MkmGBfgNl2EL",
        "outputId": "08ab3fee-ed2a-48ca-8c0a-174a579b964b"
      },
      "outputs": [
        {
          "name": "stdout",
          "output_type": "stream",
          "text": [
            "\u001b[1m25/25\u001b[0m \u001b[32m━━━━━━━━━━━━━━━━━━━━\u001b[0m\u001b[37m\u001b[0m \u001b[1m0s\u001b[0m 1ms/step \n",
            "predicted value of day 201:  [57.083584]\n",
            "Actual value of day 201:  [54.24589]\n"
          ]
        }
      ],
      "source": [
        "predict_next_day(model, testX, testY)"
      ]
    },
    {
      "cell_type": "code",
      "execution_count": null,
      "metadata": {
        "colab": {
          "base_uri": "https://localhost:8080/"
        },
        "id": "SHOIKRdNARhS",
        "outputId": "1e6fb82e-a2ad-4983-fdef-faeb87bcae79"
      },
      "outputs": [
        {
          "name": "stdout",
          "output_type": "stream",
          "text": [
            "Monero Price Prediction System\n",
            "---------------------------\n",
            "Enter the highest price: 2.18888\n",
            "Enter the lowest price: 1.35909\n",
            "Enter the open price: 1.58940\n",
            "Enter the close price: 3.13856\n",
            "Enter the volume: 220148.0\n",
            "1/1 [==============================] - 0s 36ms/step\n",
            "Predicted Weighted Price: 1885.1244729280827\n"
          ]
        }
      ],
      "source": [
        "def predict_price(model, scaler, user_input):\n",
        "    try:\n",
        "        # Reshape and scale the input\n",
        "        user_input_reshaped = user_input.reshape(-1, 1)\n",
        "        user_input_scaled = scaler.transform(user_input_reshaped).reshape(1, -1, 1)\n",
        "\n",
        "        # Predict\n",
        "        prediction = model.predict(user_input_scaled)\n",
        "        prediction_reshaped = np.repeat(prediction, user_input_scaled.shape[1]).reshape(1, -1)\n",
        "\n",
        "        # Inverse transform\n",
        "        prediction_inverse = scaler.inverse_transform(\n",
        "            np.concatenate((user_input_scaled.reshape(1, -1), prediction_reshaped), axis=0)\n",
        "        )[1]\n",
        "\n",
        "        return prediction_inverse[1]\n",
        "    except Exception as e:\n",
        "        print(\"Error during prediction:\", e)\n",
        "        return None\n",
        "print(\"Monero Price Prediction System\")\n",
        "print(\"---------------------------\")\n",
        "\n",
        "high = float(input(\"Enter the highest price: \"))\n",
        "low = float(input(\"Enter the lowest price: \"))\n",
        "open = float(input(\"Enter the open price: \"))\n",
        "close = float(input(\"Enter the close price: \"))\n",
        "volume = float(input(\"Enter the volume: \"))\n",
        "user_input = np.array([[high,low,open,close,volume]])\n",
        "predicted_value = predict_price(model, scaler, user_input)\n",
        "print('Predicted Weighted Price:', predicted_value)"
      ]
    }
  ],
  "metadata": {
    "colab": {
      "provenance": []
    },
    "kernelspec": {
      "display_name": "Python 3",
      "name": "python3"
    },
    "language_info": {
      "codemirror_mode": {
        "name": "ipython",
        "version": 3
      },
      "file_extension": ".py",
      "mimetype": "text/x-python",
      "name": "python",
      "nbconvert_exporter": "python",
      "pygments_lexer": "ipython3",
      "version": "3.11.9"
    }
  },
  "nbformat": 4,
  "nbformat_minor": 0
}
