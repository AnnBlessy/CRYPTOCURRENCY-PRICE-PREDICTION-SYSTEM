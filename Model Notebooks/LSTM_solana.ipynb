{
  "cells": [
    {
      "cell_type": "code",
      "execution_count": 1,
      "metadata": {
        "id": "aVGj-DPV_QcU"
      },
      "outputs": [],
      "source": [
        "from sklearn.metrics import mean_absolute_error, mean_squared_error, r2_score, explained_variance_score\n",
        "from sklearn.preprocessing import MinMaxScaler\n",
        "from keras.layers import Dense , LSTM , Dropout , Bidirectional\n",
        "from keras.models import Sequential\n",
        "from datetime import datetime\n",
        "from numpy import sqrt\n",
        "import matplotlib.pyplot as plt\n",
        "import warnings\n",
        "import pandas as pd\n",
        "import numpy as np\n",
        "import joblib\n",
        "warnings.filterwarnings('ignore')\n",
        "%matplotlib inline\n"
      ]
    },
    {
      "cell_type": "code",
      "execution_count": 2,
      "metadata": {
        "colab": {
          "base_uri": "https://localhost:8080/",
          "height": 206
        },
        "id": "hUrXr99Z_X7Q",
        "outputId": "f9da5866-d07e-469f-abcd-ad43dcec6d3d"
      },
      "outputs": [
        {
          "data": {
            "text/html": [
              "<div>\n",
              "<style scoped>\n",
              "    .dataframe tbody tr th:only-of-type {\n",
              "        vertical-align: middle;\n",
              "    }\n",
              "\n",
              "    .dataframe tbody tr th {\n",
              "        vertical-align: top;\n",
              "    }\n",
              "\n",
              "    .dataframe thead th {\n",
              "        text-align: right;\n",
              "    }\n",
              "</style>\n",
              "<table border=\"1\" class=\"dataframe\">\n",
              "  <thead>\n",
              "    <tr style=\"text-align: right;\">\n",
              "      <th></th>\n",
              "      <th>SNo</th>\n",
              "      <th>Name</th>\n",
              "      <th>Symbol</th>\n",
              "      <th>Date</th>\n",
              "      <th>High</th>\n",
              "      <th>Low</th>\n",
              "      <th>Open</th>\n",
              "      <th>Close</th>\n",
              "      <th>Volume</th>\n",
              "      <th>Marketcap</th>\n",
              "    </tr>\n",
              "  </thead>\n",
              "  <tbody>\n",
              "    <tr>\n",
              "      <th>0</th>\n",
              "      <td>1</td>\n",
              "      <td>Solana</td>\n",
              "      <td>SOL</td>\n",
              "      <td>2020-04-11 23:59:59</td>\n",
              "      <td>1.049073</td>\n",
              "      <td>0.765020</td>\n",
              "      <td>0.951054</td>\n",
              "      <td>0.776819</td>\n",
              "      <td>4.386244e+07</td>\n",
              "      <td>0.0</td>\n",
              "    </tr>\n",
              "    <tr>\n",
              "      <th>1</th>\n",
              "      <td>2</td>\n",
              "      <td>Solana</td>\n",
              "      <td>SOL</td>\n",
              "      <td>2020-04-12 23:59:59</td>\n",
              "      <td>0.956670</td>\n",
              "      <td>0.762426</td>\n",
              "      <td>0.785448</td>\n",
              "      <td>0.882507</td>\n",
              "      <td>3.873690e+07</td>\n",
              "      <td>0.0</td>\n",
              "    </tr>\n",
              "    <tr>\n",
              "      <th>2</th>\n",
              "      <td>3</td>\n",
              "      <td>Solana</td>\n",
              "      <td>SOL</td>\n",
              "      <td>2020-04-13 23:59:59</td>\n",
              "      <td>0.891603</td>\n",
              "      <td>0.773976</td>\n",
              "      <td>0.890760</td>\n",
              "      <td>0.777832</td>\n",
              "      <td>1.821129e+07</td>\n",
              "      <td>0.0</td>\n",
              "    </tr>\n",
              "    <tr>\n",
              "      <th>3</th>\n",
              "      <td>4</td>\n",
              "      <td>Solana</td>\n",
              "      <td>SOL</td>\n",
              "      <td>2020-04-14 23:59:59</td>\n",
              "      <td>0.796472</td>\n",
              "      <td>0.628169</td>\n",
              "      <td>0.777832</td>\n",
              "      <td>0.661925</td>\n",
              "      <td>1.674761e+07</td>\n",
              "      <td>0.0</td>\n",
              "    </tr>\n",
              "    <tr>\n",
              "      <th>4</th>\n",
              "      <td>5</td>\n",
              "      <td>Solana</td>\n",
              "      <td>SOL</td>\n",
              "      <td>2020-04-15 23:59:59</td>\n",
              "      <td>0.704964</td>\n",
              "      <td>0.621531</td>\n",
              "      <td>0.669289</td>\n",
              "      <td>0.646651</td>\n",
              "      <td>1.307528e+07</td>\n",
              "      <td>0.0</td>\n",
              "    </tr>\n",
              "  </tbody>\n",
              "</table>\n",
              "</div>"
            ],
            "text/plain": [
              "   SNo    Name Symbol                 Date      High       Low      Open  \\\n",
              "0    1  Solana    SOL  2020-04-11 23:59:59  1.049073  0.765020  0.951054   \n",
              "1    2  Solana    SOL  2020-04-12 23:59:59  0.956670  0.762426  0.785448   \n",
              "2    3  Solana    SOL  2020-04-13 23:59:59  0.891603  0.773976  0.890760   \n",
              "3    4  Solana    SOL  2020-04-14 23:59:59  0.796472  0.628169  0.777832   \n",
              "4    5  Solana    SOL  2020-04-15 23:59:59  0.704964  0.621531  0.669289   \n",
              "\n",
              "      Close        Volume  Marketcap  \n",
              "0  0.776819  4.386244e+07        0.0  \n",
              "1  0.882507  3.873690e+07        0.0  \n",
              "2  0.777832  1.821129e+07        0.0  \n",
              "3  0.661925  1.674761e+07        0.0  \n",
              "4  0.646651  1.307528e+07        0.0  "
            ]
          },
          "execution_count": 2,
          "metadata": {},
          "output_type": "execute_result"
        }
      ],
      "source": [
        "df= pd.read_csv('C:/Users/annbl/Downloads/Bitcoin Price Predictions/coin_Solana.csv')\n",
        "df.head()"
      ]
    },
    {
      "cell_type": "code",
      "execution_count": 3,
      "metadata": {
        "colab": {
          "base_uri": "https://localhost:8080/"
        },
        "id": "QR8XrKD-_YCz",
        "outputId": "038a2a3a-840f-433a-adb6-601f94e1b3bf"
      },
      "outputs": [
        {
          "data": {
            "text/plain": [
              "(452, 10)"
            ]
          },
          "execution_count": 3,
          "metadata": {},
          "output_type": "execute_result"
        }
      ],
      "source": [
        "df.shape"
      ]
    },
    {
      "cell_type": "code",
      "execution_count": 4,
      "metadata": {
        "colab": {
          "base_uri": "https://localhost:8080/",
          "height": 300
        },
        "id": "5OFEdLia_YFC",
        "outputId": "8dc6bd47-b4d5-4f28-8988-4ec0c1476693"
      },
      "outputs": [
        {
          "data": {
            "text/html": [
              "<div>\n",
              "<style scoped>\n",
              "    .dataframe tbody tr th:only-of-type {\n",
              "        vertical-align: middle;\n",
              "    }\n",
              "\n",
              "    .dataframe tbody tr th {\n",
              "        vertical-align: top;\n",
              "    }\n",
              "\n",
              "    .dataframe thead th {\n",
              "        text-align: right;\n",
              "    }\n",
              "</style>\n",
              "<table border=\"1\" class=\"dataframe\">\n",
              "  <thead>\n",
              "    <tr style=\"text-align: right;\">\n",
              "      <th></th>\n",
              "      <th>SNo</th>\n",
              "      <th>High</th>\n",
              "      <th>Low</th>\n",
              "      <th>Open</th>\n",
              "      <th>Close</th>\n",
              "      <th>Volume</th>\n",
              "      <th>Marketcap</th>\n",
              "    </tr>\n",
              "  </thead>\n",
              "  <tbody>\n",
              "    <tr>\n",
              "      <th>count</th>\n",
              "      <td>452.000000</td>\n",
              "      <td>452.000000</td>\n",
              "      <td>452.000000</td>\n",
              "      <td>452.000000</td>\n",
              "      <td>452.000000</td>\n",
              "      <td>4.520000e+02</td>\n",
              "      <td>4.520000e+02</td>\n",
              "    </tr>\n",
              "    <tr>\n",
              "      <th>mean</th>\n",
              "      <td>226.500000</td>\n",
              "      <td>11.190482</td>\n",
              "      <td>9.647555</td>\n",
              "      <td>10.400225</td>\n",
              "      <td>10.471388</td>\n",
              "      <td>1.956751e+08</td>\n",
              "      <td>2.588164e+09</td>\n",
              "    </tr>\n",
              "    <tr>\n",
              "      <th>std</th>\n",
              "      <td>130.625419</td>\n",
              "      <td>15.148788</td>\n",
              "      <td>13.006301</td>\n",
              "      <td>14.082328</td>\n",
              "      <td>14.114444</td>\n",
              "      <td>3.906998e+08</td>\n",
              "      <td>3.985932e+09</td>\n",
              "    </tr>\n",
              "    <tr>\n",
              "      <th>min</th>\n",
              "      <td>1.000000</td>\n",
              "      <td>0.559759</td>\n",
              "      <td>0.505194</td>\n",
              "      <td>0.513391</td>\n",
              "      <td>0.515273</td>\n",
              "      <td>6.520201e+05</td>\n",
              "      <td>0.000000e+00</td>\n",
              "    </tr>\n",
              "    <tr>\n",
              "      <th>25%</th>\n",
              "      <td>113.750000</td>\n",
              "      <td>1.484753</td>\n",
              "      <td>1.311024</td>\n",
              "      <td>1.410480</td>\n",
              "      <td>1.424761</td>\n",
              "      <td>7.851473e+06</td>\n",
              "      <td>3.056948e+07</td>\n",
              "    </tr>\n",
              "    <tr>\n",
              "      <th>50%</th>\n",
              "      <td>226.500000</td>\n",
              "      <td>3.018518</td>\n",
              "      <td>2.483870</td>\n",
              "      <td>2.867550</td>\n",
              "      <td>2.881389</td>\n",
              "      <td>1.858893e+07</td>\n",
              "      <td>1.042625e+08</td>\n",
              "    </tr>\n",
              "    <tr>\n",
              "      <th>75%</th>\n",
              "      <td>339.250000</td>\n",
              "      <td>15.270240</td>\n",
              "      <td>13.774265</td>\n",
              "      <td>14.262057</td>\n",
              "      <td>14.362851</td>\n",
              "      <td>1.802343e+08</td>\n",
              "      <td>3.811371e+09</td>\n",
              "    </tr>\n",
              "    <tr>\n",
              "      <th>max</th>\n",
              "      <td>452.000000</td>\n",
              "      <td>58.302927</td>\n",
              "      <td>46.187557</td>\n",
              "      <td>56.089257</td>\n",
              "      <td>55.910960</td>\n",
              "      <td>2.772225e+09</td>\n",
              "      <td>1.524342e+10</td>\n",
              "    </tr>\n",
              "  </tbody>\n",
              "</table>\n",
              "</div>"
            ],
            "text/plain": [
              "              SNo        High         Low        Open       Close  \\\n",
              "count  452.000000  452.000000  452.000000  452.000000  452.000000   \n",
              "mean   226.500000   11.190482    9.647555   10.400225   10.471388   \n",
              "std    130.625419   15.148788   13.006301   14.082328   14.114444   \n",
              "min      1.000000    0.559759    0.505194    0.513391    0.515273   \n",
              "25%    113.750000    1.484753    1.311024    1.410480    1.424761   \n",
              "50%    226.500000    3.018518    2.483870    2.867550    2.881389   \n",
              "75%    339.250000   15.270240   13.774265   14.262057   14.362851   \n",
              "max    452.000000   58.302927   46.187557   56.089257   55.910960   \n",
              "\n",
              "             Volume     Marketcap  \n",
              "count  4.520000e+02  4.520000e+02  \n",
              "mean   1.956751e+08  2.588164e+09  \n",
              "std    3.906998e+08  3.985932e+09  \n",
              "min    6.520201e+05  0.000000e+00  \n",
              "25%    7.851473e+06  3.056948e+07  \n",
              "50%    1.858893e+07  1.042625e+08  \n",
              "75%    1.802343e+08  3.811371e+09  \n",
              "max    2.772225e+09  1.524342e+10  "
            ]
          },
          "execution_count": 4,
          "metadata": {},
          "output_type": "execute_result"
        }
      ],
      "source": [
        "df.describe()\n"
      ]
    },
    {
      "cell_type": "code",
      "execution_count": 5,
      "metadata": {
        "colab": {
          "base_uri": "https://localhost:8080/"
        },
        "id": "EALuBCPM_YHh",
        "outputId": "2c4a216f-994f-4f76-aab2-d047786384ef"
      },
      "outputs": [
        {
          "data": {
            "text/plain": [
              "SNo          0\n",
              "Name         0\n",
              "Symbol       0\n",
              "Date         0\n",
              "High         0\n",
              "Low          0\n",
              "Open         0\n",
              "Close        0\n",
              "Volume       0\n",
              "Marketcap    0\n",
              "dtype: int64"
            ]
          },
          "execution_count": 5,
          "metadata": {},
          "output_type": "execute_result"
        }
      ],
      "source": [
        "df.isnull().sum()"
      ]
    },
    {
      "cell_type": "code",
      "execution_count": 6,
      "metadata": {
        "colab": {
          "base_uri": "https://localhost:8080/"
        },
        "id": "pBA9CNkp_YM4",
        "outputId": "771ee466-5fe1-41af-8b50-f6407f90a216"
      },
      "outputs": [
        {
          "name": "stdout",
          "output_type": "stream",
          "text": [
            "<class 'pandas.core.frame.DataFrame'>\n",
            "RangeIndex: 452 entries, 0 to 451\n",
            "Data columns (total 10 columns):\n",
            " #   Column     Non-Null Count  Dtype  \n",
            "---  ------     --------------  -----  \n",
            " 0   SNo        452 non-null    int64  \n",
            " 1   Name       452 non-null    object \n",
            " 2   Symbol     452 non-null    object \n",
            " 3   Date       452 non-null    object \n",
            " 4   High       452 non-null    float64\n",
            " 5   Low        452 non-null    float64\n",
            " 6   Open       452 non-null    float64\n",
            " 7   Close      452 non-null    float64\n",
            " 8   Volume     452 non-null    float64\n",
            " 9   Marketcap  452 non-null    float64\n",
            "dtypes: float64(6), int64(1), object(3)\n",
            "memory usage: 35.4+ KB\n"
          ]
        }
      ],
      "source": [
        "df.info()"
      ]
    },
    {
      "cell_type": "code",
      "execution_count": 7,
      "metadata": {
        "colab": {
          "base_uri": "https://localhost:8080/"
        },
        "id": "F3eKIlZ6_YPj",
        "outputId": "27dcdca8-2761-437a-e3d7-ab187747d12f"
      },
      "outputs": [
        {
          "data": {
            "text/plain": [
              "(452, 10)"
            ]
          },
          "execution_count": 7,
          "metadata": {},
          "output_type": "execute_result"
        }
      ],
      "source": [
        "tam1 = df.shape[0]\n",
        "df.shape"
      ]
    },
    {
      "cell_type": "code",
      "execution_count": 8,
      "metadata": {
        "colab": {
          "base_uri": "https://localhost:8080/"
        },
        "id": "4Rj6_Om6CTYn",
        "outputId": "3fda68cc-3457-456a-c13e-d53db8d3da22"
      },
      "outputs": [
        {
          "data": {
            "text/plain": [
              "10.471388"
            ]
          },
          "execution_count": 8,
          "metadata": {},
          "output_type": "execute_result"
        }
      ],
      "source": [
        "values = df['Close'].values.reshape(-1,1)\n",
        "values = values.astype('float32')\n",
        "scaler = MinMaxScaler(feature_range=(0, 1))\n",
        "scaled = scaler.fit_transform(values)\n",
        "np.mean(values)"
      ]
    },
    {
      "cell_type": "code",
      "execution_count": 9,
      "metadata": {
        "colab": {
          "base_uri": "https://localhost:8080/"
        },
        "id": "hVQUQOy0CTbW",
        "outputId": "e107cb50-ce18-4e76-8d15-75e0cbaa13ea"
      },
      "outputs": [
        {
          "name": "stdout",
          "output_type": "stream",
          "text": [
            "316 136\n"
          ]
        }
      ],
      "source": [
        "train_size = int(len(scaled) * 0.7)\n",
        "test_size = len(scaled) - train_size\n",
        "train, test = scaled[0:train_size,:], scaled[train_size:len(scaled),:]\n",
        "print(len(train), len(test))"
      ]
    },
    {
      "cell_type": "code",
      "execution_count": 10,
      "metadata": {
        "id": "HmaoFDoaCTdu"
      },
      "outputs": [],
      "source": [
        "def create_dataset(dataset, look_back=1):\n",
        "    dataX, dataY = [], []\n",
        "    for i in range(len(dataset) - look_back):\n",
        "        a = dataset[i:(i + look_back), 0]\n",
        "        dataX.append(a)\n",
        "        dataY.append(dataset[i + look_back, 0])\n",
        "    print(len(dataY))\n",
        "    return np.array(dataX), np.array(dataY)"
      ]
    },
    {
      "cell_type": "code",
      "execution_count": 11,
      "metadata": {
        "colab": {
          "base_uri": "https://localhost:8080/"
        },
        "id": "prhMspNMCThA",
        "outputId": "75bcf954-acc8-478b-ab25-d568b3bc0223"
      },
      "outputs": [
        {
          "name": "stdout",
          "output_type": "stream",
          "text": [
            "315\n",
            "135\n"
          ]
        }
      ],
      "source": [
        "look_back = 1\n",
        "trainX, trainY = create_dataset(train, look_back)\n",
        "testX, testY = create_dataset(test, look_back)"
      ]
    },
    {
      "cell_type": "code",
      "execution_count": 12,
      "metadata": {
        "id": "fiKgcGJJChn4"
      },
      "outputs": [],
      "source": [
        "trainX = np.reshape(trainX, (trainX.shape[0], 1, trainX.shape[1]))\n",
        "testX = np.reshape(testX, (testX.shape[0], 1, testX.shape[1]))"
      ]
    },
    {
      "cell_type": "code",
      "execution_count": 13,
      "metadata": {
        "colab": {
          "base_uri": "https://localhost:8080/"
        },
        "id": "Lyt6knVKChqd",
        "outputId": "c7481e80-c82a-4a65-a1a5-a345ed9b21cf"
      },
      "outputs": [
        {
          "data": {
            "text/html": [
              "<pre style=\"white-space:pre;overflow-x:auto;line-height:normal;font-family:Menlo,'DejaVu Sans Mono',consolas,'Courier New',monospace\"><span style=\"font-weight: bold\">Model: \"sequential\"</span>\n",
              "</pre>\n"
            ],
            "text/plain": [
              "\u001b[1mModel: \"sequential\"\u001b[0m\n"
            ]
          },
          "metadata": {},
          "output_type": "display_data"
        },
        {
          "data": {
            "text/html": [
              "<pre style=\"white-space:pre;overflow-x:auto;line-height:normal;font-family:Menlo,'DejaVu Sans Mono',consolas,'Courier New',monospace\">┏━━━━━━━━━━━━━━━━━━━━━━━━━━━━━━━━━┳━━━━━━━━━━━━━━━━━━━━━━━━┳━━━━━━━━━━━━━━━┓\n",
              "┃<span style=\"font-weight: bold\"> Layer (type)                    </span>┃<span style=\"font-weight: bold\"> Output Shape           </span>┃<span style=\"font-weight: bold\">       Param # </span>┃\n",
              "┡━━━━━━━━━━━━━━━━━━━━━━━━━━━━━━━━━╇━━━━━━━━━━━━━━━━━━━━━━━━╇━━━━━━━━━━━━━━━┩\n",
              "│ bidirectional (<span style=\"color: #0087ff; text-decoration-color: #0087ff\">Bidirectional</span>)   │ (<span style=\"color: #00af00; text-decoration-color: #00af00\">315</span>, <span style=\"color: #00af00; text-decoration-color: #00af00\">64</span>)              │         <span style=\"color: #00af00; text-decoration-color: #00af00\">8,704</span> │\n",
              "├─────────────────────────────────┼────────────────────────┼───────────────┤\n",
              "│ dense (<span style=\"color: #0087ff; text-decoration-color: #0087ff\">Dense</span>)                   │ (<span style=\"color: #00af00; text-decoration-color: #00af00\">315</span>, <span style=\"color: #00af00; text-decoration-color: #00af00\">128</span>)             │         <span style=\"color: #00af00; text-decoration-color: #00af00\">8,320</span> │\n",
              "├─────────────────────────────────┼────────────────────────┼───────────────┤\n",
              "│ dropout (<span style=\"color: #0087ff; text-decoration-color: #0087ff\">Dropout</span>)               │ (<span style=\"color: #00af00; text-decoration-color: #00af00\">315</span>, <span style=\"color: #00af00; text-decoration-color: #00af00\">128</span>)             │             <span style=\"color: #00af00; text-decoration-color: #00af00\">0</span> │\n",
              "├─────────────────────────────────┼────────────────────────┼───────────────┤\n",
              "│ dense_1 (<span style=\"color: #0087ff; text-decoration-color: #0087ff\">Dense</span>)                 │ (<span style=\"color: #00af00; text-decoration-color: #00af00\">315</span>, <span style=\"color: #00af00; text-decoration-color: #00af00\">64</span>)              │         <span style=\"color: #00af00; text-decoration-color: #00af00\">8,256</span> │\n",
              "├─────────────────────────────────┼────────────────────────┼───────────────┤\n",
              "│ dropout_1 (<span style=\"color: #0087ff; text-decoration-color: #0087ff\">Dropout</span>)             │ (<span style=\"color: #00af00; text-decoration-color: #00af00\">315</span>, <span style=\"color: #00af00; text-decoration-color: #00af00\">64</span>)              │             <span style=\"color: #00af00; text-decoration-color: #00af00\">0</span> │\n",
              "├─────────────────────────────────┼────────────────────────┼───────────────┤\n",
              "│ dense_2 (<span style=\"color: #0087ff; text-decoration-color: #0087ff\">Dense</span>)                 │ (<span style=\"color: #00af00; text-decoration-color: #00af00\">315</span>, <span style=\"color: #00af00; text-decoration-color: #00af00\">1</span>)               │            <span style=\"color: #00af00; text-decoration-color: #00af00\">65</span> │\n",
              "└─────────────────────────────────┴────────────────────────┴───────────────┘\n",
              "</pre>\n"
            ],
            "text/plain": [
              "┏━━━━━━━━━━━━━━━━━━━━━━━━━━━━━━━━━┳━━━━━━━━━━━━━━━━━━━━━━━━┳━━━━━━━━━━━━━━━┓\n",
              "┃\u001b[1m \u001b[0m\u001b[1mLayer (type)                   \u001b[0m\u001b[1m \u001b[0m┃\u001b[1m \u001b[0m\u001b[1mOutput Shape          \u001b[0m\u001b[1m \u001b[0m┃\u001b[1m \u001b[0m\u001b[1m      Param #\u001b[0m\u001b[1m \u001b[0m┃\n",
              "┡━━━━━━━━━━━━━━━━━━━━━━━━━━━━━━━━━╇━━━━━━━━━━━━━━━━━━━━━━━━╇━━━━━━━━━━━━━━━┩\n",
              "│ bidirectional (\u001b[38;5;33mBidirectional\u001b[0m)   │ (\u001b[38;5;34m315\u001b[0m, \u001b[38;5;34m64\u001b[0m)              │         \u001b[38;5;34m8,704\u001b[0m │\n",
              "├─────────────────────────────────┼────────────────────────┼───────────────┤\n",
              "│ dense (\u001b[38;5;33mDense\u001b[0m)                   │ (\u001b[38;5;34m315\u001b[0m, \u001b[38;5;34m128\u001b[0m)             │         \u001b[38;5;34m8,320\u001b[0m │\n",
              "├─────────────────────────────────┼────────────────────────┼───────────────┤\n",
              "│ dropout (\u001b[38;5;33mDropout\u001b[0m)               │ (\u001b[38;5;34m315\u001b[0m, \u001b[38;5;34m128\u001b[0m)             │             \u001b[38;5;34m0\u001b[0m │\n",
              "├─────────────────────────────────┼────────────────────────┼───────────────┤\n",
              "│ dense_1 (\u001b[38;5;33mDense\u001b[0m)                 │ (\u001b[38;5;34m315\u001b[0m, \u001b[38;5;34m64\u001b[0m)              │         \u001b[38;5;34m8,256\u001b[0m │\n",
              "├─────────────────────────────────┼────────────────────────┼───────────────┤\n",
              "│ dropout_1 (\u001b[38;5;33mDropout\u001b[0m)             │ (\u001b[38;5;34m315\u001b[0m, \u001b[38;5;34m64\u001b[0m)              │             \u001b[38;5;34m0\u001b[0m │\n",
              "├─────────────────────────────────┼────────────────────────┼───────────────┤\n",
              "│ dense_2 (\u001b[38;5;33mDense\u001b[0m)                 │ (\u001b[38;5;34m315\u001b[0m, \u001b[38;5;34m1\u001b[0m)               │            \u001b[38;5;34m65\u001b[0m │\n",
              "└─────────────────────────────────┴────────────────────────┴───────────────┘\n"
            ]
          },
          "metadata": {},
          "output_type": "display_data"
        },
        {
          "data": {
            "text/html": [
              "<pre style=\"white-space:pre;overflow-x:auto;line-height:normal;font-family:Menlo,'DejaVu Sans Mono',consolas,'Courier New',monospace\"><span style=\"font-weight: bold\"> Total params: </span><span style=\"color: #00af00; text-decoration-color: #00af00\">25,345</span> (99.00 KB)\n",
              "</pre>\n"
            ],
            "text/plain": [
              "\u001b[1m Total params: \u001b[0m\u001b[38;5;34m25,345\u001b[0m (99.00 KB)\n"
            ]
          },
          "metadata": {},
          "output_type": "display_data"
        },
        {
          "data": {
            "text/html": [
              "<pre style=\"white-space:pre;overflow-x:auto;line-height:normal;font-family:Menlo,'DejaVu Sans Mono',consolas,'Courier New',monospace\"><span style=\"font-weight: bold\"> Trainable params: </span><span style=\"color: #00af00; text-decoration-color: #00af00\">25,345</span> (99.00 KB)\n",
              "</pre>\n"
            ],
            "text/plain": [
              "\u001b[1m Trainable params: \u001b[0m\u001b[38;5;34m25,345\u001b[0m (99.00 KB)\n"
            ]
          },
          "metadata": {},
          "output_type": "display_data"
        },
        {
          "data": {
            "text/html": [
              "<pre style=\"white-space:pre;overflow-x:auto;line-height:normal;font-family:Menlo,'DejaVu Sans Mono',consolas,'Courier New',monospace\"><span style=\"font-weight: bold\"> Non-trainable params: </span><span style=\"color: #00af00; text-decoration-color: #00af00\">0</span> (0.00 B)\n",
              "</pre>\n"
            ],
            "text/plain": [
              "\u001b[1m Non-trainable params: \u001b[0m\u001b[38;5;34m0\u001b[0m (0.00 B)\n"
            ]
          },
          "metadata": {},
          "output_type": "display_data"
        }
      ],
      "source": [
        "model = Sequential()\n",
        "model.add(Bidirectional(LSTM(32)))\n",
        "model.add(Dense(units=128, activation='relu'))\n",
        "model.add(Dropout(0.01))  # Changed dropout rate to 0.9\n",
        "model.add(Dense(units=64, activation='relu'))\n",
        "model.add(Dropout(0.01))  # Changed dropout rate to 0.9\n",
        "model.add(Dense(units=1))\n",
        "model.build(input_shape=(trainX.shape[0], trainX.shape[1], trainX.shape[2]))\n",
        "\n",
        "model.summary()\n"
      ]
    },
    {
      "cell_type": "code",
      "execution_count": 14,
      "metadata": {
        "id": "KDPKFjqIChs1"
      },
      "outputs": [],
      "source": [
        " def train_model(model, loss, optimizer, trainX, trainY):\n",
        "\n",
        "  model.compile(loss=loss, optimizer=optimizer)\n",
        "  #train model\n",
        "  history = model.fit(trainX, trainY, epochs=30, batch_size= 200,  validation_data = (testX, testY))\n",
        "  # plot cost\n",
        "  plt.plot(history.history['loss'], label='train')\n",
        "  plt.plot(history.history['val_loss'], label='test')\n",
        "  plt.legend()\n",
        "  plt.show()"
      ]
    },
    {
      "cell_type": "code",
      "execution_count": 15,
      "metadata": {
        "id": "OnhKxXOKChwc"
      },
      "outputs": [],
      "source": [
        "def evaluate_model(model, testX, testY):\n",
        "\n",
        "  yhat = model.predict(testX)\n",
        "  plt.title('Curve of actual value and predicted value on the scale used in training')\n",
        "  plt.plot(yhat, label='predict')\n",
        "  plt.plot(testY, label='true')\n",
        "  plt.legend()\n",
        "  plt.show()\n",
        "\n",
        "  yhat_inverse = scaler.inverse_transform(yhat.reshape(-1, 1))\n",
        "  testY_inverse = scaler.inverse_transform(testY.reshape(-1, 1))\n",
        "\n",
        "  mse = mean_squared_error(testY_inverse, yhat_inverse)\n",
        "  r2 = r2_score(testY_inverse, yhat_inverse)\n",
        "  mae = mean_absolute_error(testY_inverse, yhat_inverse)\n",
        "  evs = explained_variance_score(testY_inverse, yhat_inverse)\n",
        "  rmse= sqrt(mse)\n",
        "\n",
        "  print(\"Model: LSTM\")\n",
        "  print(\"Mean Squared Error:\", mse)\n",
        "  print(\"R-squared:\", r2)\n",
        "  print(\"Mean Absolute Error:\", mae)\n",
        "  print(\"Explained Variance Score:\", evs)\n",
        "  print(\"RMSE:\", rmse)\n",
        "\n",
        "  plt.title('Actual value curve and predicted value in US dollars')\n",
        "  plt.plot(yhat_inverse, label='predict')\n",
        "  plt.plot(testY_inverse, label='actual', alpha=0.5)\n",
        "  plt.legend()\n",
        "  plt.show()"
      ]
    },
    {
      "cell_type": "code",
      "execution_count": 16,
      "metadata": {
        "colab": {
          "base_uri": "https://localhost:8080/",
          "height": 1000
        },
        "id": "yaOt1w29Cuq9",
        "outputId": "72ceb7ea-97f7-4e33-cbbb-8709d031727b"
      },
      "outputs": [
        {
          "name": "stdout",
          "output_type": "stream",
          "text": [
            "Epoch 1/30\n",
            "\u001b[1m2/2\u001b[0m \u001b[32m━━━━━━━━━━━━━━━━━━━━\u001b[0m\u001b[37m\u001b[0m \u001b[1m3s\u001b[0m 318ms/step - loss: 0.0021 - val_loss: 0.2790\n",
            "Epoch 2/30\n",
            "\u001b[1m2/2\u001b[0m \u001b[32m━━━━━━━━━━━━━━━━━━━━\u001b[0m\u001b[37m\u001b[0m \u001b[1m0s\u001b[0m 26ms/step - loss: 0.0012 - val_loss: 0.2436\n",
            "Epoch 3/30\n",
            "\u001b[1m2/2\u001b[0m \u001b[32m━━━━━━━━━━━━━━━━━━━━\u001b[0m\u001b[37m\u001b[0m \u001b[1m0s\u001b[0m 28ms/step - loss: 8.6441e-04 - val_loss: 0.2175\n",
            "Epoch 4/30\n",
            "\u001b[1m2/2\u001b[0m \u001b[32m━━━━━━━━━━━━━━━━━━━━\u001b[0m\u001b[37m\u001b[0m \u001b[1m0s\u001b[0m 34ms/step - loss: 8.2069e-04 - val_loss: 0.2039\n",
            "Epoch 5/30\n",
            "\u001b[1m2/2\u001b[0m \u001b[32m━━━━━━━━━━━━━━━━━━━━\u001b[0m\u001b[37m\u001b[0m \u001b[1m0s\u001b[0m 34ms/step - loss: 7.4572e-04 - val_loss: 0.1935\n",
            "Epoch 6/30\n",
            "\u001b[1m2/2\u001b[0m \u001b[32m━━━━━━━━━━━━━━━━━━━━\u001b[0m\u001b[37m\u001b[0m \u001b[1m0s\u001b[0m 8ms/step - loss: 6.9032e-04 - val_loss: 0.1811\n",
            "Epoch 7/30\n",
            "\u001b[1m2/2\u001b[0m \u001b[32m━━━━━━━━━━━━━━━━━━━━\u001b[0m\u001b[37m\u001b[0m \u001b[1m0s\u001b[0m 39ms/step - loss: 6.4061e-04 - val_loss: 0.1647\n",
            "Epoch 8/30\n",
            "\u001b[1m2/2\u001b[0m \u001b[32m━━━━━━━━━━━━━━━━━━━━\u001b[0m\u001b[37m\u001b[0m \u001b[1m0s\u001b[0m 29ms/step - loss: 5.4858e-04 - val_loss: 0.1478\n",
            "Epoch 9/30\n",
            "\u001b[1m2/2\u001b[0m \u001b[32m━━━━━━━━━━━━━━━━━━━━\u001b[0m\u001b[37m\u001b[0m \u001b[1m0s\u001b[0m 29ms/step - loss: 4.5008e-04 - val_loss: 0.1341\n",
            "Epoch 10/30\n",
            "\u001b[1m2/2\u001b[0m \u001b[32m━━━━━━━━━━━━━━━━━━━━\u001b[0m\u001b[37m\u001b[0m \u001b[1m0s\u001b[0m 34ms/step - loss: 4.2032e-04 - val_loss: 0.1210\n",
            "Epoch 11/30\n",
            "\u001b[1m2/2\u001b[0m \u001b[32m━━━━━━━━━━━━━━━━━━━━\u001b[0m\u001b[37m\u001b[0m \u001b[1m0s\u001b[0m 34ms/step - loss: 3.3536e-04 - val_loss: 0.1071\n",
            "Epoch 12/30\n",
            "\u001b[1m2/2\u001b[0m \u001b[32m━━━━━━━━━━━━━━━━━━━━\u001b[0m\u001b[37m\u001b[0m \u001b[1m0s\u001b[0m 20ms/step - loss: 2.6394e-04 - val_loss: 0.0910\n",
            "Epoch 13/30\n",
            "\u001b[1m2/2\u001b[0m \u001b[32m━━━━━━━━━━━━━━━━━━━━\u001b[0m\u001b[37m\u001b[0m \u001b[1m0s\u001b[0m 31ms/step - loss: 1.9228e-04 - val_loss: 0.0758\n",
            "Epoch 14/30\n",
            "\u001b[1m2/2\u001b[0m \u001b[32m━━━━━━━━━━━━━━━━━━━━\u001b[0m\u001b[37m\u001b[0m \u001b[1m0s\u001b[0m 26ms/step - loss: 1.3627e-04 - val_loss: 0.0640\n",
            "Epoch 15/30\n",
            "\u001b[1m2/2\u001b[0m \u001b[32m━━━━━━━━━━━━━━━━━━━━\u001b[0m\u001b[37m\u001b[0m \u001b[1m0s\u001b[0m 23ms/step - loss: 8.8697e-05 - val_loss: 0.0519\n",
            "Epoch 16/30\n",
            "\u001b[1m2/2\u001b[0m \u001b[32m━━━━━━━━━━━━━━━━━━━━\u001b[0m\u001b[37m\u001b[0m \u001b[1m0s\u001b[0m 30ms/step - loss: 5.6576e-05 - val_loss: 0.0400\n",
            "Epoch 17/30\n",
            "\u001b[1m2/2\u001b[0m \u001b[32m━━━━━━━━━━━━━━━━━━━━\u001b[0m\u001b[37m\u001b[0m \u001b[1m0s\u001b[0m 31ms/step - loss: 4.5552e-05 - val_loss: 0.0322\n",
            "Epoch 18/30\n",
            "\u001b[1m2/2\u001b[0m \u001b[32m━━━━━━━━━━━━━━━━━━━━\u001b[0m\u001b[37m\u001b[0m \u001b[1m0s\u001b[0m 33ms/step - loss: 3.5473e-05 - val_loss: 0.0259\n",
            "Epoch 19/30\n",
            "\u001b[1m2/2\u001b[0m \u001b[32m━━━━━━━━━━━━━━━━━━━━\u001b[0m\u001b[37m\u001b[0m \u001b[1m0s\u001b[0m 39ms/step - loss: 3.7510e-05 - val_loss: 0.0203\n",
            "Epoch 20/30\n",
            "\u001b[1m2/2\u001b[0m \u001b[32m━━━━━━━━━━━━━━━━━━━━\u001b[0m\u001b[37m\u001b[0m \u001b[1m0s\u001b[0m 34ms/step - loss: 4.5468e-05 - val_loss: 0.0181\n",
            "Epoch 21/30\n",
            "\u001b[1m2/2\u001b[0m \u001b[32m━━━━━━━━━━━━━━━━━━━━\u001b[0m\u001b[37m\u001b[0m \u001b[1m0s\u001b[0m 22ms/step - loss: 4.2000e-05 - val_loss: 0.0168\n",
            "Epoch 22/30\n",
            "\u001b[1m2/2\u001b[0m \u001b[32m━━━━━━━━━━━━━━━━━━━━\u001b[0m\u001b[37m\u001b[0m \u001b[1m0s\u001b[0m 17ms/step - loss: 5.1308e-05 - val_loss: 0.0162\n",
            "Epoch 23/30\n",
            "\u001b[1m2/2\u001b[0m \u001b[32m━━━━━━━━━━━━━━━━━━━━\u001b[0m\u001b[37m\u001b[0m \u001b[1m0s\u001b[0m 27ms/step - loss: 4.6834e-05 - val_loss: 0.0170\n",
            "Epoch 24/30\n",
            "\u001b[1m2/2\u001b[0m \u001b[32m━━━━━━━━━━━━━━━━━━━━\u001b[0m\u001b[37m\u001b[0m \u001b[1m0s\u001b[0m 42ms/step - loss: 4.1770e-05 - val_loss: 0.0184\n",
            "Epoch 25/30\n",
            "\u001b[1m2/2\u001b[0m \u001b[32m━━━━━━━━━━━━━━━━━━━━\u001b[0m\u001b[37m\u001b[0m \u001b[1m0s\u001b[0m 30ms/step - loss: 3.7489e-05 - val_loss: 0.0201\n",
            "Epoch 26/30\n",
            "\u001b[1m2/2\u001b[0m \u001b[32m━━━━━━━━━━━━━━━━━━━━\u001b[0m\u001b[37m\u001b[0m \u001b[1m0s\u001b[0m 37ms/step - loss: 3.9442e-05 - val_loss: 0.0226\n",
            "Epoch 27/30\n",
            "\u001b[1m2/2\u001b[0m \u001b[32m━━━━━━━━━━━━━━━━━━━━\u001b[0m\u001b[37m\u001b[0m \u001b[1m0s\u001b[0m 21ms/step - loss: 3.2987e-05 - val_loss: 0.0244\n",
            "Epoch 28/30\n",
            "\u001b[1m2/2\u001b[0m \u001b[32m━━━━━━━━━━━━━━━━━━━━\u001b[0m\u001b[37m\u001b[0m \u001b[1m0s\u001b[0m 32ms/step - loss: 3.0706e-05 - val_loss: 0.0262\n",
            "Epoch 29/30\n",
            "\u001b[1m2/2\u001b[0m \u001b[32m━━━━━━━━━━━━━━━━━━━━\u001b[0m\u001b[37m\u001b[0m \u001b[1m0s\u001b[0m 30ms/step - loss: 3.2261e-05 - val_loss: 0.0276\n",
            "Epoch 30/30\n",
            "\u001b[1m2/2\u001b[0m \u001b[32m━━━━━━━━━━━━━━━━━━━━\u001b[0m\u001b[37m\u001b[0m \u001b[1m0s\u001b[0m 35ms/step - loss: 3.3140e-05 - val_loss: 0.0276\n"
          ]
        },
        {
          "data": {
            "image/png": "[encoded data removed]",
            "text/plain": [
              "<Figure size 640x480 with 1 Axes>"
            ]
          },
          "metadata": {},
          "output_type": "display_data"
        }
      ],
      "source": [
        "train_model(model, 'mse', 'adam', trainX, trainY)"
      ]
    },
    {
      "cell_type": "code",
      "execution_count": 17,
      "metadata": {
        "colab": {
          "base_uri": "https://localhost:8080/",
          "height": 1000
        },
        "id": "zjxyt-TZCutp",
        "outputId": "5c6429d9-e964-4d91-ac15-4a63b3362a51"
      },
      "outputs": [
        {
          "name": "stdout",
          "output_type": "stream",
          "text": [
            "\u001b[1m5/5\u001b[0m \u001b[32m━━━━━━━━━━━━━━━━━━━━\u001b[0m\u001b[37m\u001b[0m \u001b[1m0s\u001b[0m 51ms/step\n"
          ]
        },
        {
          "data": {
            "image/png": "[encoded data removed]",
            "text/plain": [
              "<Figure size 640x480 with 1 Axes>"
            ]
          },
          "metadata": {},
          "output_type": "display_data"
        },
        {
          "name": "stdout",
          "output_type": "stream",
          "text": [
            "Model: LSTM\n",
            "Mean Squared Error: 84.782005\n",
            "R-squared: 0.34042169315675097\n",
            "Mean Absolute Error: 7.7719274\n",
            "Explained Variance Score: 0.8042815327644348\n",
            "RMSE: 9.207714\n"
          ]
        },
        {
          "data": {
            "image/png": "[encoded data removed]",
            "text/plain": [
              "<Figure size 640x480 with 1 Axes>"
            ]
          },
          "metadata": {},
          "output_type": "display_data"
        }
      ],
      "source": [
        "evaluate_model(model, testX, testY)"
      ]
    },
    {
      "cell_type": "code",
      "execution_count": 18,
      "metadata": {
        "colab": {
          "base_uri": "https://localhost:8080/"
        },
        "id": "EVSnQwByMM_H",
        "outputId": "bc891bdb-5538-4f10-a14c-e804e758d0c5"
      },
      "outputs": [
        {
          "name": "stderr",
          "output_type": "stream",
          "text": [
            "WARNING:absl:You are saving your model as an HDF5 file via `model.save()` or `keras.saving.save_model(model)`. This file format is considered legacy. We recommend using instead the native Keras format, e.g. `model.save('my_model.keras')` or `keras.saving.save_model(model, 'my_model.keras')`. \n"
          ]
        },
        {
          "data": {
            "text/plain": [
              "['scaler_sol.pkl']"
            ]
          },
          "execution_count": 18,
          "metadata": {},
          "output_type": "execute_result"
        }
      ],
      "source": [
        "model.save('model_SOL.h5')\n",
        "\n",
        "joblib.dump(scaler, 'scaler_sol.pkl')"
      ]
    },
    {
      "cell_type": "code",
      "execution_count": 19,
      "metadata": {
        "id": "NuZLqx67Cuv7"
      },
      "outputs": [],
      "source": [
        "def create_time_steps(length):\n",
        "  time_steps = []\n",
        "  for i in range(-length, 0, 1):\n",
        "    time_steps.append(i)\n",
        "  return time_steps\n",
        "\n",
        "def baseline(history):\n",
        "  return np.mean(history)\n",
        "\n",
        "def show_plot(plot_data, delta, title):\n",
        "  labels = ['History', 'True Future', 'Model Prediction']\n",
        "  marker = ['.-', 'rx', 'go']\n",
        "  time_steps = create_time_steps(plot_data[0].shape[0])\n",
        "  if delta:\n",
        "    future = delta\n",
        "  else:\n",
        "    future = 0\n",
        "\n",
        "  plt.title(title)\n",
        "  for i, x in enumerate(plot_data):\n",
        "    if i:\n",
        "      plt.plot(future, plot_data[i], marker[i], markersize=10,\n",
        "               label=labels[i])\n",
        "    else:\n",
        "      plt.plot(time_steps, plot_data[i].flatten(), marker[i], label=labels[i])\n",
        "  plt.legend()\n",
        "  plt.xlim([time_steps[0], (future+5)*2])\n",
        "  plt.xlabel('Time-Step')\n",
        "  return plt"
      ]
    },
    {
      "cell_type": "code",
      "execution_count": 20,
      "metadata": {
        "id": "7LydppWrCuzV"
      },
      "outputs": [],
      "source": [
        "def predict_next_day(model, testX, testY):\n",
        "\n",
        "  yhat_inverse = scaler.inverse_transform(model.predict(testX).reshape(-1, 1))\n",
        "  testY_inverse = scaler.inverse_transform(testY.reshape(-1, 1))\n",
        "\n",
        "  show_plot([testY_inverse[0:100], yhat_inverse[101],baseline(testY_inverse[101])], 1, 'Next day prediction')\n",
        "\n",
        "  print('predicted value of day 101: ', yhat_inverse[101])\n",
        "  print('Actual value of day 101: ', testY_inverse[101])"
      ]
    },
    {
      "cell_type": "code",
      "execution_count": 21,
      "metadata": {
        "colab": {
          "base_uri": "https://localhost:8080/",
          "height": 524
        },
        "id": "1PCfap3vDSbc",
        "outputId": "c2bce9f7-775f-4413-f5a7-05731a8c2fdf"
      },
      "outputs": [
        {
          "name": "stdout",
          "output_type": "stream",
          "text": [
            "\u001b[1m5/5\u001b[0m \u001b[32m━━━━━━━━━━━━━━━━━━━━\u001b[0m\u001b[37m\u001b[0m \u001b[1m0s\u001b[0m 1ms/step \n",
            "predicted value of day 101:  [24.785]\n",
            "Actual value of day 101:  [39.470905]\n"
          ]
        }
      ],
      "source": [
        "predict_next_day(model, testX, testY)"
      ]
    },
    {
      "cell_type": "code",
      "execution_count": null,
      "metadata": {
        "colab": {
          "base_uri": "https://localhost:8080/"
        },
        "id": "MwpQeQYvi8E9",
        "outputId": "b702388b-08e7-4cab-c822-583650757b43"
      },
      "outputs": [
        {
          "name": "stdout",
          "output_type": "stream",
          "text": [
            "1/1 [==============================] - 1s 1s/step\n",
            "Predicted Weighted Price: 85.1058593735893\n"
          ]
        }
      ],
      "source": [
        "def predict_price(model, scaler, user_input):\n",
        "    try:\n",
        "        # Reshape and scale the input\n",
        "        user_input_reshaped = user_input.reshape(-1, 1)\n",
        "        user_input_scaled = scaler.transform(user_input_reshaped).reshape(1, -1, 1)\n",
        "\n",
        "        # Predict\n",
        "        prediction = model.predict(user_input_scaled)\n",
        "        prediction_reshaped = np.repeat(prediction, user_input_scaled.shape[1]).reshape(1, -1)\n",
        "\n",
        "        # Inverse transform\n",
        "        prediction_inverse = scaler.inverse_transform(\n",
        "            np.concatenate((user_input_scaled.reshape(1, -1), prediction_reshaped), axis=0)\n",
        "        )[1]\n",
        "\n",
        "        return prediction_inverse[1]\n",
        "    except Exception as e:\n",
        "        print(\"Error during prediction:\", e)\n",
        "        return None\n",
        "\n",
        "# Example usage\n",
        "user_input = np.array([[1.049073, 0.296827, 1.470724, 0.137136, 0.678620e+05, 1.986738e+07]])\n",
        "predicted_value = predict_price(model, scaler, user_input)\n",
        "print('Predicted Weighted Price:', predicted_value)"
      ]
    },
    {
      "cell_type": "code",
      "execution_count": null,
      "metadata": {
        "colab": {
          "base_uri": "https://localhost:8080/"
        },
        "id": "2EZFxeyGy3ae",
        "outputId": "39bed280-c6f3-40bb-c9d7-4db1d0b0b660"
      },
      "outputs": [
        {
          "name": "stdout",
          "output_type": "stream",
          "text": [
            "Solana Price Prediction System\n",
            "---------------------------\n",
            "Enter the highest price: 211.6666077\n",
            "Enter the lowest price: 199.608531\n",
            "Enter the open price: 206.252403\n",
            "Enter the close price: 211.345143\n",
            "Enter the volume: 1.5194658\n",
            "1/1 [==============================] - 0s 21ms/step\n",
            "Predicted Weighted Price: 207.311116419278\n"
          ]
        }
      ],
      "source": [
        "def predict_price(model, scaler, user_input):\n",
        "    try:\n",
        "        # Reshape and scale the input\n",
        "        user_input_reshaped = user_input.reshape(-1, 1)\n",
        "        user_input_scaled = scaler.transform(user_input_reshaped).reshape(1, -1, 1)\n",
        "\n",
        "        # Predict\n",
        "        prediction = model.predict(user_input_scaled)\n",
        "        prediction_reshaped = np.repeat(prediction, user_input_scaled.shape[1]).reshape(1, -1)\n",
        "\n",
        "        # Inverse transform\n",
        "        prediction_inverse = scaler.inverse_transform(\n",
        "            np.concatenate((user_input_scaled.reshape(1, -1), prediction_reshaped), axis=0)\n",
        "        )[1]\n",
        "\n",
        "        return prediction_inverse[1]\n",
        "    except Exception as e:\n",
        "        print(\"Error during prediction:\", e)\n",
        "        return None\n",
        "print(\"Solana Price Prediction System\")\n",
        "print(\"---------------------------\")\n",
        "\n",
        "high = float(input(\"Enter the highest price: \"))\n",
        "low = float(input(\"Enter the lowest price: \"))\n",
        "open = float(input(\"Enter the open price: \"))\n",
        "close = float(input(\"Enter the close price: \"))\n",
        "volume = float(input(\"Enter the volume: \"))\n",
        "user_input = np.array([[high,low,open,close,volume]])\n",
        "predicted_value = predict_price(model, scaler, user_input)\n",
        "print('Predicted Weighted Price:', predicted_value)"
      ]
    }
  ],
  "metadata": {
    "colab": {
      "provenance": []
    },
    "kernelspec": {
      "display_name": "Python 3",
      "name": "python3"
    },
    "language_info": {
      "codemirror_mode": {
        "name": "ipython",
        "version": 3
      },
      "file_extension": ".py",
      "mimetype": "text/x-python",
      "name": "python",
      "nbconvert_exporter": "python",
      "pygments_lexer": "ipython3",
      "version": "3.11.9"
    }
  },
  "nbformat": 4,
  "nbformat_minor": 0
}
